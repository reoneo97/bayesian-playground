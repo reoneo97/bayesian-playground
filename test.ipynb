{
 "cells": [
  {
   "cell_type": "code",
   "execution_count": 15,
   "metadata": {},
   "outputs": [],
   "source": [
    "import streamlit as st\n",
    "import numpy as np\n",
    "import plotly.express as px\n",
    "import plotly.figure_factory as ff\n",
    "from scipy.stats import norm\n",
    "from typing import List\n",
    "import matplotlib.pyplot as plt\n",
    "import pyro\n",
    "import pyro.distributions as dist\n",
    "from pyro.distributions import constraints\n",
    "from pyro.optim import Adam\n",
    "\n",
    "import pyro\n",
    "from pyro.infer import SVI, Trace_ELBO\n",
    "import torch\n",
    "from tqdm.notebook import tqdm"
   ]
  },
  {
   "cell_type": "code",
   "execution_count": 2,
   "metadata": {},
   "outputs": [
    {
     "name": "stdout",
     "output_type": "stream",
     "text": [
      "('cloudy', 59.80070495605469)\n",
      "('cloudy', 41.41704177856445)\n",
      "('sunny', 73.09033203125)\n"
     ]
    }
   ],
   "source": [
    "def weather():\n",
    "    cloudy = pyro.sample('cloudy', dist.Bernoulli(0.3))\n",
    "    cloudy = 'cloudy' if cloudy.item() == 1.0 else 'sunny'\n",
    "    mean_temp = {'cloudy': 55.0, 'sunny': 75.0}[cloudy]\n",
    "    scale_temp = {'cloudy': 10.0, 'sunny': 15.0}[cloudy]\n",
    "    temp = pyro.sample('temp', dist.Normal(mean_temp, scale_temp))\n",
    "    return cloudy, temp.item()\n",
    "\n",
    "\n",
    "for _ in range(3):\n",
    "    print(weather())\n"
   ]
  },
  {
   "cell_type": "code",
   "execution_count": 43,
   "metadata": {},
   "outputs": [],
   "source": [
    "def model(data):\n",
    "    mu = [torch.tensor(-1.),torch.tensor(1.5)]\n",
    "    sd = [torch.tensor(1.),torch.tensor(1.)]\n",
    "    # loop over the observed data [WE ONLY CHANGE THE NEXT LINE]\n",
    "    for i in pyro.plate(\"data_loop\", len(data)):\n",
    "        # observe datapoint i using the bernoulli likelihood\n",
    "        label = pyro.sample(f\"label_{i}\", dist.Bernoulli(0.5))\n",
    "        label = 1 if label.item() == 1.0 else 0\n",
    "        pyro.sample(f'obs_{i}', dist.Normal(mu[label], sd[label]), obs=data[i])\n",
    "\n"
   ]
  },
  {
   "cell_type": "code",
   "execution_count": 44,
   "metadata": {},
   "outputs": [],
   "source": [
    "def guide(data):\n",
    "    mu = pyro.param(\"mu\",torch.tensor(0.05))\n",
    "    sd = pyro.param(\"sd\",torch.tensor(1.), constraint=constraints.positive)\n",
    "    for i in pyro.plate(\"data_loop\", len(data)):\n",
    "        pyro.sample(f\"obs_{i}\", dist.Normal(mu, sd)])\n"
   ]
  },
  {
   "cell_type": "code",
   "execution_count": 45,
   "metadata": {},
   "outputs": [
    {
     "data": {
      "application/vnd.jupyter.widget-view+json": {
       "model_id": "52f580b6011d4ef28e257347263a63d6",
       "version_major": 2,
       "version_minor": 0
      },
      "text/plain": [
       "  0%|          | 0/100 [00:00<?, ?it/s]"
      ]
     },
     "metadata": {},
     "output_type": "display_data"
    },
    {
     "name": "stderr",
     "output_type": "stream",
     "text": [
      "C:\\Users\\reone\\Anaconda3\\envs\\pytorch39\\lib\\site-packages\\pyro\\util.py:288: UserWarning: Found non-auxiliary vars in guide but not model, consider marking these infer={'is_auxiliary': True}:\n",
      "{'obs_177', 'obs_159', 'obs_36', 'obs_138', 'obs_111', 'obs_197', 'obs_126', 'obs_182', 'obs_173', 'obs_105', 'obs_115', 'obs_91', 'obs_96', 'obs_186', 'obs_184', 'obs_153', 'obs_86', 'obs_121', 'obs_188', 'obs_31', 'obs_112', 'obs_148', 'obs_107', 'obs_187', 'obs_117', 'obs_57', 'obs_172', 'obs_109', 'obs_77', 'obs_106', 'obs_1', 'obs_174', 'obs_17', 'obs_75', 'obs_42', 'obs_81', 'obs_132', 'obs_85', 'obs_43', 'obs_18', 'obs_76', 'obs_56', 'obs_78', 'obs_27', 'obs_61', 'obs_46', 'obs_195', 'obs_169', 'obs_199', 'obs_44', 'obs_94', 'obs_166', 'obs_125', 'obs_73', 'obs_89', 'obs_95', 'obs_179', 'obs_70', 'obs_116', 'obs_120', 'obs_149', 'obs_142', 'obs_51', 'obs_119', 'obs_157', 'obs_110', 'obs_15', 'obs_122', 'obs_191', 'obs_58', 'obs_129', 'obs_3', 'obs_136', 'obs_71', 'obs_38', 'obs_65', 'obs_16', 'obs_162', 'obs_35', 'obs_20', 'obs_68', 'obs_130', 'obs_63', 'obs_124', 'obs_97', 'obs_30', 'obs_40', 'obs_90', 'obs_118', 'obs_196', 'obs_150', 'obs_134', 'obs_83', 'obs_26', 'obs_50', 'obs_32', 'obs_4', 'obs_12', 'obs_9', 'obs_194', 'obs_108', 'obs_47', 'obs_171', 'obs_23', 'obs_55', 'obs_102', 'obs_192', 'obs_135', 'obs_92', 'obs_45', 'obs_62', 'obs_41', 'obs_141', 'obs_93', 'obs_48', 'obs_167', 'obs_53', 'obs_152', 'obs_79', 'obs_99', 'obs_181', 'obs_198', 'obs_163', 'obs_139', 'obs_193', 'obs_29', 'obs_0', 'obs_104', 'obs_154', 'obs_144', 'obs_49', 'obs_24', 'obs_168', 'obs_158', 'obs_37', 'obs_113', 'obs_19', 'obs_151', 'obs_156', 'obs_6', 'obs_39', 'obs_190', 'obs_176', 'obs_160', 'obs_33', 'obs_67', 'obs_72', 'obs_10', 'obs_103', 'obs_82', 'obs_140', 'obs_146', 'obs_14', 'obs_147', 'obs_54', 'obs_8', 'obs_13', 'obs_34', 'obs_165', 'obs_127', 'obs_98', 'obs_178', 'obs_183', 'obs_164', 'obs_101', 'obs_87', 'obs_84', 'obs_143', 'obs_80', 'obs_131', 'obs_155', 'obs_100', 'obs_7', 'obs_59', 'obs_145', 'obs_170', 'obs_185', 'obs_21', 'obs_137', 'obs_88', 'obs_11', 'obs_189', 'obs_52', 'obs_64', 'obs_2', 'obs_60', 'obs_74', 'obs_22', 'obs_114', 'obs_25', 'obs_161', 'obs_175', 'obs_69', 'obs_180', 'obs_66', 'obs_133', 'obs_128', 'obs_123', 'obs_28', 'obs_5'}\n",
      "  warnings.warn(\n",
      "C:\\Users\\reone\\Anaconda3\\envs\\pytorch39\\lib\\site-packages\\pyro\\util.py:303: UserWarning: Found vars in model but not guide: {'label_7', 'label_120', 'label_19', 'label_177', 'label_126', 'label_141', 'label_147', 'label_145', 'label_183', 'label_70', 'label_184', 'label_15', 'label_136', 'label_187', 'label_38', 'label_9', 'label_103', 'label_30', 'label_93', 'label_170', 'label_51', 'label_178', 'label_23', 'label_62', 'label_127', 'label_68', 'label_75', 'label_65', 'label_57', 'label_138', 'label_98', 'label_58', 'label_179', 'label_24', 'label_50', 'label_22', 'label_76', 'label_77', 'label_118', 'label_119', 'label_199', 'label_113', 'label_79', 'label_18', 'label_192', 'label_139', 'label_175', 'label_66', 'label_55', 'label_150', 'label_20', 'label_73', 'label_168', 'label_96', 'label_198', 'label_41', 'label_137', 'label_74', 'label_72', 'label_104', 'label_28', 'label_161', 'label_105', 'label_144', 'label_84', 'label_193', 'label_100', 'label_102', 'label_195', 'label_39', 'label_90', 'label_92', 'label_191', 'label_152', 'label_99', 'label_124', 'label_158', 'label_1', 'label_47', 'label_115', 'label_29', 'label_154', 'label_164', 'label_52', 'label_21', 'label_27', 'label_14', 'label_4', 'label_46', 'label_85', 'label_142', 'label_35', 'label_2', 'label_44', 'label_151', 'label_148', 'label_186', 'label_63', 'label_83', 'label_160', 'label_37', 'label_36', 'label_49', 'label_78', 'label_40', 'label_196', 'label_34', 'label_130', 'label_189', 'label_87', 'label_11', 'label_3', 'label_91', 'label_131', 'label_101', 'label_165', 'label_159', 'label_111', 'label_133', 'label_59', 'label_6', 'label_173', 'label_26', 'label_82', 'label_17', 'label_197', 'label_169', 'label_97', 'label_108', 'label_43', 'label_140', 'label_182', 'label_167', 'label_116', 'label_176', 'label_146', 'label_128', 'label_12', 'label_166', 'label_61', 'label_163', 'label_67', 'label_112', 'label_10', 'label_188', 'label_56', 'label_174', 'label_114', 'label_8', 'label_53', 'label_117', 'label_86', 'label_153', 'label_190', 'label_134', 'label_121', 'label_48', 'label_95', 'label_143', 'label_155', 'label_16', 'label_89', 'label_180', 'label_107', 'label_32', 'label_69', 'label_172', 'label_162', 'label_25', 'label_122', 'label_132', 'label_181', 'label_194', 'label_171', 'label_149', 'label_106', 'label_123', 'label_13', 'label_125', 'label_0', 'label_64', 'label_5', 'label_109', 'label_94', 'label_156', 'label_45', 'label_60', 'label_88', 'label_110', 'label_129', 'label_185', 'label_42', 'label_33', 'label_135', 'label_81', 'label_31', 'label_54', 'label_71', 'label_80', 'label_157'}\n",
      "  warnings.warn(f\"Found vars in model but not guide: {bad_sites}\")\n"
     ]
    },
    {
     "name": "stdout",
     "output_type": "stream",
     "text": [
      "Mean: -0.03984580188989639\n",
      "SD: -0.03984580188989639\n"
     ]
    }
   ],
   "source": [
    "adam_params = {\"lr\": 0.0005, \"betas\": (0.90, 0.999)}\n",
    "optimizer = Adam(adam_params)\n",
    "\n",
    "# setup the inference algorithm\n",
    "svi = SVI(model, guide, optimizer, loss=Trace_ELBO())\n",
    "\n",
    "\n",
    "N_SAMPLES = 100\n",
    "m1,m2 = -2.0, 5.0\n",
    "sd1,sd2 = 1,1\n",
    "d1_samples = np.random.normal(m1, sd1, N_SAMPLES)\n",
    "d2_samples = np.random.normal(m2, sd2, N_SAMPLES)\n",
    "data = np.concatenate([d1_samples, d2_samples])\n",
    "data = torch.Tensor(data)\n",
    "\n",
    "\n",
    "n_steps = 100\n",
    "\n",
    "# do gradient steps\n",
    "for step in tqdm(range(n_steps)):\n",
    "    svi.step(data)\n",
    "print(\"Mean:\",pyro.param(\"mu\").item())\n",
    "print(\"SD:\", pyro.param(\"mu\").item())\n"
   ]
  },
  {
   "cell_type": "code",
   "execution_count": 46,
   "metadata": {},
   "outputs": [
    {
     "data": {
      "text/plain": [
       "3.1312220096588135"
      ]
     },
     "execution_count": 46,
     "metadata": {},
     "output_type": "execute_result"
    }
   ],
   "source": [
    "test = pyro.param(\"sd\").item()\n",
    "test\n"
   ]
  },
  {
   "cell_type": "code",
   "execution_count": 47,
   "metadata": {},
   "outputs": [
    {
     "data": {
      "text/plain": [
       "[<matplotlib.lines.Line2D at 0x20aff48d400>]"
      ]
     },
     "execution_count": 47,
     "metadata": {},
     "output_type": "execute_result"
    },
    {
     "data": {
      "image/png": "[encoded data removed]",
      "text/plain": [
       "<Figure size 432x288 with 1 Axes>"
      ]
     },
     "metadata": {
      "needs_background": "light"
     },
     "output_type": "display_data"
    }
   ],
   "source": [
    "plt.hist(data.numpy(),density=True)\n",
    "pred = norm(pyro.param(\"mu\").item(), pyro.param(\"sd\").item())\n",
    "pdfs = pred.pdf(np.linspace(-5, 5))\n",
    "plt.plot(np.linspace(-5,5),pdfs)"
   ]
  },
  {
   "cell_type": "code",
   "execution_count": 23,
   "metadata": {},
   "outputs": [
    {
     "data": {
      "text/plain": [
       "<scipy.stats._distn_infrastructure.rv_frozen at 0x20afeca5400>"
      ]
     },
     "execution_count": 23,
     "metadata": {},
     "output_type": "execute_result"
    }
   ],
   "source": [
    "\n",
    "pred"
   ]
  },
  {
   "cell_type": "code",
   "execution_count": 25,
   "metadata": {},
   "outputs": [
    {
     "data": {
      "text/plain": [
       "array([0.0042207 , 0.00579591, 0.00785474, 0.01050544, 0.01386659,\n",
       "       0.01806332, 0.02322191, 0.0294626 , 0.0368907 , 0.0455864 ,\n",
       "       0.0555938 , 0.06690984, 0.07947423, 0.09316125, 0.10777472,\n",
       "       0.12304703, 0.13864303, 0.15416918, 0.16918806, 0.18323757,\n",
       "       0.19585378, 0.20659606, 0.21507244, 0.22096329, 0.22404132,\n",
       "       0.22418614, 0.22139206, 0.21576846, 0.2075327 , 0.19699615,\n",
       "       0.1845447 , 0.17061533, 0.1556708 , 0.14017447, 0.12456709,\n",
       "       0.10924721, 0.0945562 , 0.08076856, 0.06808749, 0.05664543,\n",
       "       0.0465088 , 0.03768582, 0.03013655, 0.02378382, 0.01852433,\n",
       "       0.01423888, 0.01080145, 0.0080865 , 0.00597464, 0.00435648])"
      ]
     },
     "execution_count": 25,
     "metadata": {},
     "output_type": "execute_result"
    }
   ],
   "source": [
    "pred.pdf(np.linspace(-5,5))"
   ]
  },
  {
   "cell_type": "code",
   "execution_count": null,
   "metadata": {},
   "outputs": [],
   "source": []
  }
 ],
 "metadata": {
  "interpreter": {
   "hash": "ae6cb736db322a7e5b5dd7daf0bf0f9a9670115917e8b0bb381fef1697396fac"
  },
  "kernelspec": {
   "display_name": "Python 3.9.5 ('pytorch39')",
   "language": "python",
   "name": "python3"
  },
  "language_info": {
   "codemirror_mode": {
    "name": "ipython",
    "version": 3
   },
   "file_extension": ".py",
   "mimetype": "text/x-python",
   "name": "python",
   "nbconvert_exporter": "python",
   "pygments_lexer": "ipython3",
   "version": "3.9.5"
  },
  "orig_nbformat": 4
 },
 "nbformat": 4,
 "nbformat_minor": 2
}
